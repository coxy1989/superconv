{
 "cells": [
  {
   "cell_type": "code",
   "execution_count": 4,
   "metadata": {},
   "outputs": [],
   "source": [
    "import math\n",
    "from typing import Dict, Callable\n",
    "from tensorflow.keras import backend as K\n",
    "import tensorflow as tf\n",
    "import numpy as np\n",
    "import seaborn as sns\n",
    "import pandas as pd\n",
    "import matplotlib.pyplot as plt\n",
    "mnist = tf.keras.datasets.mnist"
   ]
  },
  {
   "cell_type": "code",
   "execution_count": 15,
   "metadata": {},
   "outputs": [
    {
     "data": {
      "image/png": "[encoded data removed]",
      "text/plain": [
       "<Figure size 432x288 with 1 Axes>"
      ]
     },
     "metadata": {
      "needs_background": "light"
     },
     "output_type": "display_data"
    }
   ],
   "source": [
    "def _inv_lr(iteration_idx:int, gamma:float, power:float,  base_lr:float):\n",
    "    'ported from: https://github.com/BVLC/caffe/blob/master/src/caffe/proto/caffe.proto#L157-L172'\n",
    "    return base_lr * (1 + gamma * iteration_idx) ** (- power)\n",
    "\n",
    "class InvSchedulerCallback(tf.keras.callbacks.Callback):\n",
    "    \n",
    "    def __init__(self,\n",
    "                 gamma:float,\n",
    "                 power:float,\n",
    "                 base_lr:float):\n",
    "        'TODO: docstring'        \n",
    "        self.gamma = gamma\n",
    "        self.power = power\n",
    "        self.base_lr = base_lr\n",
    "        self.iteration = 0\n",
    "    \n",
    "    def on_batch_begin(self, batch, logs=None):\n",
    "        'TODO: docstring'        \n",
    "        if not hasattr(self.model.optimizer, 'lr'):\n",
    "            raise ValueError('Optimizer must have a \"lr\" attribute.')\n",
    "        lr = _inv_lr(self.iteration, self.gamma, self.power, self.base_lr)\n",
    "        K.set_value(self.model.optimizer.lr, lr)\n",
    "    \n",
    "    def on_batch_end(self, batch, logs=None):\n",
    "        'TODO: docstring'\n",
    "        self.iteration +=1\n",
    "       \n",
    "    @staticmethod\n",
    "    def plot_schedule(iterations:int, gamma:float, power:float,  base_lr:float):\n",
    "        'TODO: docstring'   \n",
    "        xs = range(iterations)\n",
    "        ys = [_inv_lr(i, gamma, power, base_lr) for i in xs]\n",
    "        df = pd.DataFrame({'lr' : ys, 'iteration': xs})\n",
    "        sns.lineplot(x='iteration', y='lr', data=df)\n",
    "\n",
    "gamma = 0.0001\n",
    "power = 0.75\n",
    "base_lr = 0.01\n",
    "InvSchedulerCallback.plot_schedule(10000, gamma, power,base_lr)"
   ]
  },
  {
   "cell_type": "code",
   "execution_count": 2,
   "metadata": {},
   "outputs": [],
   "source": [
    "def _1cycle_mom(iteration_idx:int,\n",
    "                cyc_iterations:int,\n",
    "                min_mom:float,\n",
    "                max_mom:float):\n",
    "    'TODO: docstring'\n",
    "    mid = math.floor((cyc_iterations - 1)/2)\n",
    "    if iteration_idx == mid: return min_mom\n",
    "    elif iteration_idx == 0 or iteration_idx >= (2 * mid): return max_mom\n",
    "    else:\n",
    "        mod = (iteration_idx % mid)\n",
    "        numerator =  mod if iteration_idx < mid else mid - mod\n",
    "        return max_mom - (numerator / mid) * (max_mom - min_mom)\n",
    "\n",
    "def _1cycle_lr(iteration_idx:int,\n",
    "              cyc_iterations:int,\n",
    "              ramp_iterations:int,\n",
    "              min_lr:float,\n",
    "              max_lr:float):\n",
    "    'TODO: docstring'\n",
    "    if cyc_iterations % 2 != 1:\n",
    "        raise ValueError('Even value for `cyc_iterations` implies asymetric step size')\n",
    "    mid = (cyc_iterations - 1)/2\n",
    "    if iteration_idx == mid: return max_lr\n",
    "    elif iteration_idx == 0 or iteration_idx == (2 * mid): return min_lr\n",
    "    elif iteration_idx < cyc_iterations: \n",
    "        mod = (iteration_idx % mid)\n",
    "        numerator =  mod if iteration_idx < mid else mid - mod\n",
    "        return min_lr + (numerator / mid) * (max_lr - min_lr)\n",
    "    else:\n",
    "        idx = iteration_idx - cyc_iterations\n",
    "        ramp_max = min_lr\n",
    "        ramp_min = min_lr * 1e-5\n",
    "        return ramp_max - ((idx + 1) / ramp_iterations) * (ramp_max - ramp_min)\n",
    "\n",
    "class OneCycleSchedulerCallback(tf.keras.callbacks.Callback):\n",
    "    \n",
    "    def __init__(self,\n",
    "                 cyc_iterations:int,\n",
    "                 ramp_iterations:int,\n",
    "                 min_lr:float,\n",
    "                 max_lr:float,\n",
    "                 min_mom:float,\n",
    "                 max_mom:float):\n",
    "        'TODO: docstring'        \n",
    "        self.cyc_iterations = cyc_iterations\n",
    "        self.ramp_iterations = ramp_iterations\n",
    "        self.min_lr = min_lr\n",
    "        self.max_lr = max_lr\n",
    "        self.min_mom = min_mom\n",
    "        self.max_mom = max_mom\n",
    "        self.iteration = 0\n",
    "    \n",
    "    def on_batch_begin(self, batch, logs=None):\n",
    "        'TODO: docstring'        \n",
    "        if not hasattr(self.model.optimizer, 'lr'):\n",
    "            raise ValueError('Optimizer must have a \"lr\" attribute.')\n",
    "        if not hasattr(self.model.optimizer, 'momentum'):\n",
    "            raise ValueError('Optimizer must have a \"momentum\" attribute.')\n",
    "        lr = _1cycle_lr(self.iteration, self.cyc_iterations, self.ramp_iterations, self.min_lr, self.max_lr)\n",
    "        mom = _1cycle_mom(self.iteration, self.cyc_iterations, self.min_mom, self.max_mom)\n",
    "        K.set_value(self.model.optimizer.lr, lr)\n",
    "        K.set_value(self.model.optimizer.momentum, mom)   \n",
    "    \n",
    "    def on_batch_end(self, batch, logs=None):\n",
    "        'TODO: docstring'\n",
    "        self.iteration +=1\n",
    "        \n",
    "    @staticmethod\n",
    "    def plot_schedule(cyc_iterations:int,\n",
    "                      ramp_iterations:int,\n",
    "                      min_lr:float,\n",
    "                      max_lr:float,\n",
    "                      min_mom:float,\n",
    "                      max_mom:float):\n",
    "        xs = range(cyc_iterations + ramp_iterations)\n",
    "        lr_ys = [_1cycle_lr(i, cyc_iterations, ramp_iterations, min_lr, max_lr) for i in xs]\n",
    "        mom_ys = [_1cycle_mom(i, cyc_iterations, min_lr, max_lr) for i in xs]\n",
    "        lr_df = pd.DataFrame({'iteration': xs, 'lr' : lr_ys})\n",
    "        mom_df = pd.DataFrame({'iteration': xs, 'mom' : mom_ys})\n",
    "        _ ,(ax1, ax2) = plt.subplots(nrows=2, figsize=(10, 20))\n",
    "        sns.lineplot(x='iteration', y='lr', data= lr_df, ax=ax1)\n",
    "        sns.lineplot(x='iteration', y='mom', data= mom_df, ax=ax2)\n",
    "        \n",
    "def _triangular_f(it:int, ss:int, min_lr:float, max_lr:float):\n",
    "    'TODO: docstring'\n",
    "    cyc = math.floor(it / (ss * 2))\n",
    "    it_cyc = it - (cyc * 2 * ss)\n",
    "    mid_dist = math.fabs(it_cyc - ss)\n",
    "    scalar = mid_dist / ss\n",
    "    return min_lr + (1 - scalar) * (max_lr - min_lr)\n",
    "\n",
    "class LRFinderCallback(tf.keras.callbacks.Callback):\n",
    "    \n",
    "    def __init__(self, step_size:int, min_lr:float, max_lr:float, evaluate_mod:int, evaluate_fn:Callable):\n",
    "        'TODO: docstring'        \n",
    "        super().__init__()\n",
    "        self.step_size = step_size\n",
    "        self.lr = min_lr\n",
    "        self.min_lr = min_lr\n",
    "        self.max_lr = max_lr\n",
    "        self.evaluate_mod = evaluate_mod\n",
    "        self.evaluate_fn = evaluate_fn\n",
    "        self.lrs = []\n",
    "        self.its = []\n",
    "        self.val_lrs = []\n",
    "        self.val_loss = []\n",
    "        self.val_acc = []\n",
    "        self.iteration = 0\n",
    "    \n",
    "    def on_batch_begin(self, batch, logs=None):\n",
    "        'TODO: docstring'\n",
    "        if not hasattr(self.model.optimizer, 'lr'):\n",
    "            raise ValueError('Optimizer must have a \"lr\" attribute.')\n",
    "        self.lr = _triangular_f(self.iteration, self.step_size, self.min_lr, self.max_lr)\n",
    "        K.set_value(self.model.optimizer.lr, self.lr)\n",
    "                \n",
    "    def on_batch_end(self, batch, logs=None):\n",
    "        'TODO: docstring'\n",
    "        self.lrs.append(self.lr)\n",
    "        self.its.append(self.iteration)\n",
    "        if self.iteration % self.evaluate_mod == 0:\n",
    "            self.val_lrs.append(self.lr)\n",
    "            loss, acc = self.evaluate_fn()\n",
    "            self.val_loss.append(loss)\n",
    "            self.val_acc.append(acc)\n",
    "        self.iteration += 1\n",
    "        \n",
    "    def plot_lr_vs_iteration(self):\n",
    "        'TODO: docstring'        \n",
    "        df = pd.DataFrame({'lr' : self.lrs, 'iteration': self.its})\n",
    "        sns.lineplot(x='iteration', y='lr', data=df)\n",
    "        \n",
    "    def plot_lr_vs_loss(self):\n",
    "        'TODO: docstring'        \n",
    "        df = pd.DataFrame({'lr' : self.val_lrs, 'loss': self.val_loss})\n",
    "        sns.lineplot(x='lr', y='loss', data=df)\n",
    "        \n",
    "    def plot_lr_vs_acc(self):\n",
    "        'TODO: docstring'        \n",
    "        df = pd.DataFrame({'lr' : self.val_lrs, 'acc': self.val_acc})\n",
    "        sns.lineplot(x='lr', y='acc', data=df)"
   ]
  },
  {
   "cell_type": "code",
   "execution_count": 3,
   "metadata": {},
   "outputs": [],
   "source": [
    "# mnist\n",
    "\n",
    "def gen_model():\n",
    "    'TODO: docstring'    \n",
    "    return tf.keras.models.Sequential([\n",
    "        tf.keras.layers.InputLayer(input_shape=(28, 28, 1)),\n",
    "        tf.keras.layers.Conv2D(filters=20,\n",
    "                               kernel_size=5),\n",
    "        tf.keras.layers.MaxPool2D(pool_size=2, strides=2),\n",
    "        tf.keras.layers.Conv2D(filters=50,\n",
    "                               kernel_size=5),\n",
    "        tf.keras.layers.MaxPool2D(pool_size=2, strides=2),\n",
    "        tf.keras.layers.Flatten(),\n",
    "        tf.keras.layers.Dense(500, activation='relu'),\n",
    "        tf.keras.layers.Dense(10, activation='softmax')])\n",
    "\n",
    "def gen_mnist_iterator(x, y, bs):\n",
    "    'TODO: docstring'    \n",
    "    x = (x / 255.0).astype(np.float32)[..., tf.newaxis]\n",
    "    y = tf.one_hot(y, 10)\n",
    "    ds = tf.data.Dataset.from_tensor_slices((x, y)).shuffle(x.shape[0]).batch(bs).repeat()\n",
    "    return ds.make_one_shot_iterator()"
   ]
  },
  {
   "cell_type": "code",
   "execution_count": 7,
   "metadata": {},
   "outputs": [
    {
     "name": "stdout",
     "output_type": "stream",
     "text": [
      "Epoch 1/20\n",
      "118/118 [==============================] - 38s 324ms/step - loss: 0.7448 - acc: 0.7961\n",
      "Epoch 2/20\n",
      "118/118 [==============================] - 1s 10ms/step - loss: 0.1769 - acc: 0.9468\n",
      "Epoch 3/20\n",
      "118/118 [==============================] - 1s 10ms/step - loss: 0.1187 - acc: 0.9648\n",
      "Epoch 4/20\n",
      "118/118 [==============================] - 1s 10ms/step - loss: 0.0890 - acc: 0.9737\n",
      "Epoch 5/20\n",
      "118/118 [==============================] - 1s 10ms/step - loss: 0.0768 - acc: 0.9766\n",
      "Epoch 6/20\n",
      "118/118 [==============================] - 1s 10ms/step - loss: 0.0676 - acc: 0.9801\n",
      "Epoch 7/20\n",
      "118/118 [==============================] - 1s 10ms/step - loss: 0.0574 - acc: 0.9831\n",
      "Epoch 8/20\n",
      "118/118 [==============================] - 1s 10ms/step - loss: 0.0532 - acc: 0.9842\n",
      "Epoch 9/20\n",
      "118/118 [==============================] - 1s 10ms/step - loss: 0.0484 - acc: 0.9856\n",
      "Epoch 10/20\n",
      "118/118 [==============================] - 1s 10ms/step - loss: 0.0445 - acc: 0.9869\n",
      "Epoch 11/20\n",
      "118/118 [==============================] - 1s 10ms/step - loss: 0.0412 - acc: 0.9881\n",
      "Epoch 12/20\n",
      "118/118 [==============================] - 1s 10ms/step - loss: 0.0383 - acc: 0.9888\n",
      "Epoch 13/20\n",
      "118/118 [==============================] - 1s 10ms/step - loss: 0.0362 - acc: 0.9895\n",
      "Epoch 14/20\n",
      "118/118 [==============================] - 1s 10ms/step - loss: 0.0333 - acc: 0.9900\n",
      "Epoch 15/20\n",
      "118/118 [==============================] - 1s 10ms/step - loss: 0.0320 - acc: 0.9906\n",
      "Epoch 16/20\n",
      "118/118 [==============================] - 1s 10ms/step - loss: 0.0294 - acc: 0.9917\n",
      "Epoch 17/20\n",
      "118/118 [==============================] - 1s 10ms/step - loss: 0.0280 - acc: 0.9920\n",
      "Epoch 18/20\n",
      "118/118 [==============================] - 1s 10ms/step - loss: 0.0270 - acc: 0.9924\n",
      "Epoch 19/20\n",
      "118/118 [==============================] - 1s 10ms/step - loss: 0.0263 - acc: 0.9923\n",
      "Epoch 20/20\n",
      "118/118 [==============================] - 1s 10ms/step - loss: 0.0256 - acc: 0.9926\n",
      "20/20 [==============================] - 11s 571ms/step\n"
     ]
    },
    {
     "data": {
      "text/plain": [
       "[0.03403067998588085, 0.9884248614311218]"
      ]
     },
     "execution_count": 7,
     "metadata": {},
     "output_type": "execute_result"
    }
   ],
   "source": [
    "# STEPWISE TRAIN\n",
    "\n",
    "(x_train, y_train), (x_test, y_test) = mnist.load_data()\n",
    "train_xs, train_ys = gen_mnist_iterator(x_train, y_train, 512).get_next()\n",
    "test_xs, test_ys = gen_mnist_iterator(x_test, y_test, 512).get_next()\n",
    "model = gen_model()\n",
    "opt = tf.keras.optimizers.SGD(0.01, decay=5e-4, momentum=0.9)\n",
    "train_steps = math.ceil(x_train.shape[0] / 512)\n",
    "test_steps = math.ceil(x_test.shape[0] / 512)\n",
    "model.compile(opt, \n",
    "              loss='categorical_crossentropy',\n",
    "              metrics=['acc'])\n",
    "model.fit(train_xs, train_ys, epochs=20, steps_per_epoch=train_steps)\n",
    "model.evaluate(test_xs, test_ys, steps=test_steps)"
   ]
  },
  {
   "cell_type": "code",
   "execution_count": 5,
   "metadata": {},
   "outputs": [
    {
     "name": "stdout",
     "output_type": "stream",
     "text": [
      "Epoch 1/1\n",
      "20/20 [==============================] - 5s 251ms/step\n",
      "  1/118 [..............................] - ETA: 1:01:57 - loss: 2.3008 - acc: 0.1133WARNING:tensorflow:Method on_batch_end() is slow compared to the batch update (2.508047). Check your callbacks.\n",
      "20/20 [==============================] - 0s 6ms/step\n",
      "20/20 [==============================] - 0s 6ms/step - loss: 2.2947 - acc: 0.109\n",
      "20/20 [==============================] - 0s 6ms/step - loss: 2.2729 - acc: 0.\n",
      "20/20 [==============================] - 0s 6ms/step - loss: 2.2296 - acc: 0.\n",
      "20/20 [==============================] - 0s 6ms/step - loss: 2.1333 - acc: 0.\n",
      "20/20 [==============================] - 0s 6ms/step - loss: 2.0482 - acc: 0.\n",
      "20/20 [==============================] - 0s 6ms/step - loss: 1.8834 - acc: 0.\n",
      "20/20 [==============================] - 0s 6ms/step - loss: 1.7421 - acc: 0.\n",
      "20/20 [==============================] - 0s 6ms/step - loss: 1.6163 - acc: 0.\n",
      "20/20 [==============================] - 0s 6ms/step- loss: 1.4911 - acc: 0.5\n",
      "20/20 [==============================] - 0s 5ms/step- loss: 1.3944 - acc: 0.\n",
      "20/20 [==============================] - 0s 6ms/step- loss: 1.3073 - acc: 0.\n",
      "20/20 [==============================] - 0s 6ms/step- loss: 1.2297 - acc: 0.\n",
      "20/20 [==============================] - 0s 6ms/step- loss: 1.1575 - acc: 0.\n",
      "20/20 [==============================] - 0s 6ms/step- loss: 1.0959 - acc: 0.\n",
      "20/20 [==============================] - 0s 6ms/step- loss: 1.0484 - acc: 0.\n",
      "20/20 [==============================] - 0s 6ms/step- loss: 1.0001 - acc: 0.\n",
      "20/20 [==============================] - 0s 6ms/step- loss: 0.9669 - acc: 0.\n",
      "20/20 [==============================] - 0s 6ms/step- loss: 0.9407 - acc: 0.\n",
      "20/20 [==============================] - 0s 6ms/step loss: 0.9015 - acc: 0.7\n",
      "20/20 [==============================] - 0s 6ms/step loss: 0.8662 - acc: 0.\n",
      "20/20 [==============================] - 0s 6ms/step loss: 0.8329 - acc: 0.\n",
      "20/20 [==============================] - 0s 5ms/step loss: 0.8021 - acc: 0.\n",
      "118/118 [==============================] - 36s 302ms/step - loss: 0.7783 - acc: 0.7690\n"
     ]
    },
    {
     "data": {
      "image/png": "[encoded data removed]",
      "text/plain": [
       "<Figure size 432x288 with 1 Axes>"
      ]
     },
     "metadata": {
      "needs_background": "light"
     },
     "output_type": "display_data"
    }
   ],
   "source": [
    "# MNIST LR RANGE TEST\n",
    "\n",
    "mnist = tf.keras.datasets.mnist\n",
    "(x_train, y_train), (x_test, y_test) = mnist.load_data()\n",
    "train_xs, train_ys = gen_mnist_iterator(x_train, y_train, 512).get_next()\n",
    "test_xs, test_ys = gen_mnist_iterator(x_test, y_test, 512).get_next()\n",
    "model = gen_model()\n",
    "opt = tf.keras.optimizers.SGD(0.01)\n",
    "train_steps = math.ceil(x_train.shape[0] / 512)\n",
    "test_steps = math.ceil(x_test.shape[0] / 512)\n",
    "cb = LRFinderCallback(step_size=train_steps,\n",
    "                      min_lr=1e-4,\n",
    "                      max_lr=0.6,\n",
    "                      evaluate_mod=5,\n",
    "                      evaluate_fn= lambda: model.evaluate(test_xs, test_ys, steps=test_steps))\n",
    "model.compile(opt, \n",
    "              loss='categorical_crossentropy',\n",
    "              metrics=['acc'])\n",
    "model.fit(train_xs, train_ys, epochs=1, steps_per_epoch=train_steps, callbacks=[cb])\n",
    "cb.plot_lr_vs_acc()"
   ]
  },
  {
   "cell_type": "code",
   "execution_count": 4,
   "metadata": {
    "scrolled": false
   },
   "outputs": [
    {
     "name": "stdout",
     "output_type": "stream",
     "text": [
      "Epoch 1/12\n",
      "118/118 [==============================] - 34s 288ms/step - loss: 0.6891 - acc: 0.7977\n",
      "Epoch 2/12\n",
      "118/118 [==============================] - 1s 11ms/step - loss: 0.0955 - acc: 0.9714\n",
      "Epoch 3/12\n",
      "118/118 [==============================] - 1s 11ms/step - loss: 0.0614 - acc: 0.9811\n",
      "Epoch 4/12\n",
      "118/118 [==============================] - 1s 11ms/step - loss: 0.0469 - acc: 0.9854\n",
      "Epoch 5/12\n",
      "118/118 [==============================] - 1s 11ms/step - loss: 0.0345 - acc: 0.9892\n",
      "Epoch 6/12\n",
      "118/118 [==============================] - 1s 11ms/step - loss: 0.0278 - acc: 0.9911\n",
      "Epoch 7/12\n",
      "118/118 [==============================] - 1s 11ms/step - loss: 0.0207 - acc: 0.9937\n",
      "Epoch 8/12\n",
      "118/118 [==============================] - 1s 11ms/step - loss: 0.0161 - acc: 0.9952\n",
      "Epoch 9/12\n",
      "118/118 [==============================] - 1s 11ms/step - loss: 0.0115 - acc: 0.9969\n",
      "Epoch 10/12\n",
      "118/118 [==============================] - 1s 11ms/step - loss: 0.0086 - acc: 0.9980\n",
      "Epoch 11/12\n",
      "118/118 [==============================] - 1s 11ms/step - loss: 0.0068 - acc: 0.9986\n",
      "Epoch 12/12\n",
      "118/118 [==============================] - 1s 11ms/step - loss: 0.0056 - acc: 0.9990\n",
      "20/20 [==============================] - 5s 249ms/step\n"
     ]
    },
    {
     "data": {
      "text/plain": [
       "[0.03209905261173844, 0.9899988502264023]"
      ]
     },
     "execution_count": 4,
     "metadata": {},
     "output_type": "execute_result"
    }
   ],
   "source": [
    "# MNIST 1CYCLE TRAIN\n",
    "\n",
    "(x_train, y_train), (x_test, y_test) = mnist.load_data()\n",
    "train_xs, train_ys = gen_mnist_iterator(x_train, y_train, 512).get_next()\n",
    "test_xs, test_ys = gen_mnist_iterator(x_test, y_test, 512).get_next()\n",
    "model = gen_model()\n",
    "opt = tf.keras.optimizers.SGD(0.01, decay=5e-4)\n",
    "train_steps = math.ceil(x_train.shape[0] / 512)\n",
    "test_steps = math.ceil(x_test.shape[0] / 512)\n",
    "cb = OneCycleSchedulerCallback(cyc_iterations= 2 * 5 * math.ceil(60000 / 512) + 1,\n",
    "                               ramp_iterations= 2 * math.ceil(60000 / 512),\n",
    "                               min_lr=0.01,\n",
    "                               max_lr=0.1,\n",
    "                               min_mom=0.8,\n",
    "                               max_mom=0.95)\n",
    "model.compile(opt, \n",
    "              loss='categorical_crossentropy',\n",
    "              metrics=['acc'])\n",
    "model.fit(train_xs, train_ys, epochs=12, steps_per_epoch=train_steps, callbacks=[cb])\n",
    "model.evaluate(test_xs, test_ys, steps=test_steps)"
   ]
  },
  {
   "cell_type": "code",
   "execution_count": 18,
   "metadata": {},
   "outputs": [
    {
     "name": "stdout",
     "output_type": "stream",
     "text": [
      "400/400 [==============================] - 13s 33ms/step\n"
     ]
    },
    {
     "data": {
      "text/plain": [
       "[0.03281834803987294, 0.9903808590769768]"
      ]
     },
     "execution_count": 18,
     "metadata": {},
     "output_type": "execute_result"
    }
   ],
   "source": [
    "# bs fixed: 0.9907\n",
    "# lr_max 0.2: 0.9903\n",
    "# wd 0: 0.99050\n",
    "# wd 1e-5: 0.99059\n",
    "# no wd, shit shuffle: 0.9903"
   ]
  },
  {
   "cell_type": "code",
   "execution_count": null,
   "metadata": {},
   "outputs": [],
   "source": [
    "# --- TOY EXAMPLES"
   ]
  },
  {
   "cell_type": "code",
   "execution_count": 223,
   "metadata": {},
   "outputs": [
    {
     "name": "stdout",
     "output_type": "stream",
     "text": [
      "50/50 [==============================] - 1s 17ms/step\n",
      "WARNING:tensorflow:Method on_batch_end() is slow compared to the batch update (0.845282). Check your callbacks.\n",
      "WARNING:tensorflow:Method on_batch_begin() is slow compared to the batch update (1.041299). Check your callbacks.\n",
      "WARNING:tensorflow:Method on_batch_end() is slow compared to the batch update (0.422667). Check your callbacks.\n",
      "50/50 [==============================] - 0s 56us/step\n",
      "50/50 [==============================] - 0s 58us/step\n",
      "50/50 [==============================] - 0s 49us/step\n",
      "50/50 [==============================] - 0s 62us/step\n",
      "50/50 [==============================] - 0s 112us/step\n",
      "50/50 [==============================] - 0s 117us/step\n",
      "50/50 [==============================] - 0s 77us/step\n",
      "50/50 [==============================] - 0s 57us/step\n",
      "50/50 [==============================] - 0s 69us/step\n"
     ]
    },
    {
     "data": {
      "image/png": "[encoded data removed]",
      "text/plain": [
       "<Figure size 432x288 with 1 Axes>"
      ]
     },
     "metadata": {
      "needs_background": "light"
     },
     "output_type": "display_data"
    }
   ],
   "source": [
    "# LRFinder test run\n",
    "\n",
    "n = 100\n",
    "bs = 10\n",
    "x = np.random.sample([n, 1])\n",
    "y = x * 2 + np.random.normal(0, 0.01, [n, 1])\n",
    "test_x = np.random.sample([int(n/2), 1])\n",
    "test_y = test_x * 2 + np.random.normal(0, 0.01, [int(n/2), 1])\n",
    "xs = tf.keras.Input(shape=(1,))\n",
    "ys = tf.keras.Input(shape=(1,))\n",
    "out = tf.keras.layers.Dense(1)(xs)\n",
    "model = tf.keras.Model(xs, out)\n",
    "model.compile('sgd', 'mse', metrics=['acc'])\n",
    "cb = LRFinderCallback(step_size=100,\n",
    "                      min_lr=1e-6,\n",
    "                      max_lr=1.1,\n",
    "                      evaluate_mod=10,\n",
    "                      evaluate_fn= lambda: model.evaluate(test_x, test_y))\n",
    "model.fit(x, y, epochs=10, batch_size=10, callbacks=[cb], verbose=0)\n",
    "cb.plot_lr_vs_loss()"
   ]
  },
  {
   "cell_type": "code",
   "execution_count": 217,
   "metadata": {
    "scrolled": false
   },
   "outputs": [
    {
     "name": "stdout",
     "output_type": "stream",
     "text": [
      "Epoch 1/3\n",
      " 10/100 [==>...........................] - ETA: 27s - loss: 2.2613WARNING:tensorflow:Method on_batch_begin() is slow compared to the batch update (1.360248). Check your callbacks.\n",
      "100/100 [==============================] - 3s 30ms/step - loss: 1.2151\n",
      "Epoch 2/3\n",
      "100/100 [==============================] - 0s 228us/step - loss: 0.1359\n",
      "Epoch 3/3\n",
      "100/100 [==============================] - 0s 273us/step - loss: 0.0366\n"
     ]
    },
    {
     "data": {
      "text/plain": [
       "<tensorflow.python.keras.callbacks.History at 0x1a323c9c88>"
      ]
     },
     "execution_count": 217,
     "metadata": {},
     "output_type": "execute_result"
    }
   ],
   "source": [
    "# 1cycle test run\n",
    "\n",
    "n = 100\n",
    "bs = 10\n",
    "x = np.random.sample([n, 1])\n",
    "y = x * 2 + np.random.normal(0, 0.01, [n, 1])\n",
    "xs = tf.keras.Input(shape=(1,))\n",
    "ys = tf.keras.Input(shape=(1,))\n",
    "out = tf.keras.layers.Dense(1)(xs)\n",
    "model = tf.keras.Model(xs, out)\n",
    "model.compile('sgd', 'mse')\n",
    "cb = OneCycleSchedulerCallback(29, 1, min_lr=1e-6, max_lr=0.8, min_mom=0.8, max_mom=0.95)\n",
    "model.fit(x, y, epochs=3, batch_size=10, callbacks=[cb])"
   ]
  },
  {
   "cell_type": "code",
   "execution_count": 176,
   "metadata": {},
   "outputs": [
    {
     "data": {
      "image/png": "[encoded data removed]",
      "text/plain": [
       "<Figure size 720x1440 with 2 Axes>"
      ]
     },
     "metadata": {
      "needs_background": "light"
     },
     "output_type": "display_data"
    }
   ],
   "source": [
    "# ie: MNIST lr: 0.01-0.1/5, momentum: 0.95-0.8/5\n",
    "n = 60000\n",
    "bs = 512\n",
    "cyc_it = 10 * math.floor(n / bs)\n",
    "ramp_it = 2 * math.floor(n / bs)\n",
    "OneCycleSchedulerCallback.plot_schedule(cyc_it + 1, ramp_it, 0.01, 0.1, 0.8, 0.95)"
   ]
  },
  {
   "cell_type": "code",
   "execution_count": null,
   "metadata": {},
   "outputs": [],
   "source": [
    "# TODO: Move to tf_warmup"
   ]
  },
  {
   "cell_type": "code",
   "execution_count": 3,
   "metadata": {},
   "outputs": [
    {
     "name": "stdout",
     "output_type": "stream",
     "text": [
      "Epoch 1/1\n",
      "60000/60000 [==============================] - 7s 109us/step - loss: 0.4046 - acc: 0.8839\n"
     ]
    },
    {
     "data": {
      "text/plain": [
       "<tensorflow.python.keras.callbacks.History at 0x7f1f004324e0>"
      ]
     },
     "execution_count": 3,
     "metadata": {},
     "output_type": "execute_result"
    }
   ],
   "source": [
    "# MNIST: NUMPY -> KERAS\n",
    "\n",
    "def gen_model():\n",
    "    'TODO: docstring'    \n",
    "    return tf.keras.models.Sequential([\n",
    "        tf.keras.layers.Conv2D(input_shape=(28, 28, 1),\n",
    "                               filters=20,\n",
    "                               kernel_size=5),\n",
    "        tf.keras.layers.MaxPool2D(pool_size=2, strides=2),\n",
    "        tf.keras.layers.Conv2D(filters=50,\n",
    "                               kernel_size=5),\n",
    "        tf.keras.layers.MaxPool2D(pool_size=2, strides=2),\n",
    "        tf.keras.layers.Flatten(),\n",
    "        tf.keras.layers.Dense(500, activation='relu'),\n",
    "        tf.keras.layers.Dense(10, activation='softmax')])\n",
    "\n",
    "(x_train, y_train),(x_test, y_test) = mnist.load_data()\n",
    "x_train, x_test = (x_train / 255.0).astype(np.float32), (x_test / 255.0).astype(np.float32)\n",
    "y_train, y_test = y_train.astype(np.float32), y_test.astype(np.float32)\n",
    "x_train = x_train[..., tf.newaxis]\n",
    "model = gen_model()\n",
    "opt = tf.keras.optimizers.SGD(0.01)\n",
    "model.compile(opt,\n",
    "              loss='sparse_categorical_crossentropy',\n",
    "              metrics=['accuracy'])\n",
    "model.fit(x=x_train, y=y_train, epochs=1, batch_size=32)"
   ]
  },
  {
   "cell_type": "code",
   "execution_count": 4,
   "metadata": {
    "scrolled": false
   },
   "outputs": [
    {
     "name": "stdout",
     "output_type": "stream",
     "text": [
      "Epoch 1/1\n",
      "1875/1875 [==============================] - 26s 14ms/step - loss: 0.4057 - acc: 0.8901\n"
     ]
    },
    {
     "data": {
      "text/plain": [
       "<tensorflow.python.keras.callbacks.History at 0x7f1ef96a9b00>"
      ]
     },
     "execution_count": 4,
     "metadata": {},
     "output_type": "execute_result"
    }
   ],
   "source": [
    "# MNIST: DATASET -> KERAS\n",
    "\n",
    "def gen_model():\n",
    "    'TODO: docstring'    \n",
    "    return tf.keras.models.Sequential([\n",
    "        tf.keras.layers.InputLayer(input_shape=(28, 28, 1)),\n",
    "        tf.keras.layers.Conv2D(filters=20,\n",
    "                               kernel_size=5),\n",
    "        tf.keras.layers.MaxPool2D(pool_size=2, strides=2),\n",
    "        tf.keras.layers.Conv2D(filters=50,\n",
    "                               kernel_size=5),\n",
    "        tf.keras.layers.MaxPool2D(pool_size=2, strides=2),\n",
    "        tf.keras.layers.Flatten(),\n",
    "        tf.keras.layers.Dense(500, activation='relu'),\n",
    "        tf.keras.layers.Dense(10, activation='softmax')])\n",
    "\n",
    "(x_train, y_train), _ = mnist.load_data()\n",
    "x_train = (x_train / 255.0).astype(np.float32)[..., tf.newaxis]\n",
    "y_train = tf.one_hot(y_train, 10)\n",
    "train_ds = tf.data.Dataset.from_tensor_slices((x_train, y_train)).shuffle(100).batch(32)\n",
    "train_it = train_ds.make_one_shot_iterator()\n",
    "xs, ys = train_it.get_next()\n",
    "model = gen_model()\n",
    "opt = tf.keras.optimizers.SGD(0.01)\n",
    "steps = math.floor(x_train.shape[0] / 32)\n",
    "model.compile(opt, \n",
    "              loss='categorical_crossentropy',\n",
    "              metrics=['accuracy'])\n",
    "model.fit(xs, ys, epochs=1, steps_per_epoch=steps)"
   ]
  }
 ],
 "metadata": {
  "kernelspec": {
   "display_name": "Python 3",
   "language": "python",
   "name": "python3"
  },
  "language_info": {
   "codemirror_mode": {
    "name": "ipython",
    "version": 3
   },
   "file_extension": ".py",
   "mimetype": "text/x-python",
   "name": "python",
   "nbconvert_exporter": "python",
   "pygments_lexer": "ipython3",
   "version": "3.6.7"
  }
 },
 "nbformat": 4,
 "nbformat_minor": 2
}
