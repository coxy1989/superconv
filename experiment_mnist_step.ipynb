{
 "cells": [
  {
   "cell_type": "code",
   "execution_count": null,
   "metadata": {},
   "outputs": [],
   "source": [
    "import math\n",
    "import modules.callbacks as cbs\n",
    "import modules.model as mdl\n",
    "import tensorflow as tf\n",
    "import numpy as np\n",
    "import pandas as pd\n",
    "mnist = tf.keras.datasets.mnist\n",
    "(x_train, y_train), (x_test, y_test) = mnist.load_data()\n",
    "RESULTS_DIR = './results/experiment_mnist_step'"
   ]
  },
  {
   "cell_type": "code",
   "execution_count": null,
   "metadata": {},
   "outputs": [],
   "source": [
    "def run():\n",
    "    train_xs, train_ys = mdl.gen_mnist_iterator(x_train, y_train, 512).get_next()\n",
    "    test_xs, test_ys = mdl.gen_mnist_iterator(x_test, y_test, 512).get_next()\n",
    "    model = mdl.gen_model()\n",
    "    opt = tf.keras.optimizers.SGD(0.01, decay=5e-4, momentum=0.9)\n",
    "    train_steps = math.ceil(x_train.shape[0] / 512)\n",
    "    test_steps = math.ceil(x_test.shape[0] / 512)\n",
    "    model.compile(opt, \n",
    "                  loss='categorical_crossentropy',\n",
    "                  metrics=['acc'])\n",
    "    return model.fit(train_xs,\n",
    "                     train_ys,\n",
    "                     epochs=12,\n",
    "                     steps_per_epoch=train_steps,\n",
    "                     #callbacks=[cb],\n",
    "                     validation_data=(test_xs, test_ys),\n",
    "                     validation_steps=test_steps)\n",
    "\n",
    "#for idx in range(1, 6):\n",
    "#    hx = run()\n",
    "#    df = pd.DataFrame(hx.history)\n",
    "#    df.to_csv(f'{RESULTS_DIR}/{idx}.csv', index=False)\n",
    "#    tf.keras.backend.clear_session()\n",
    "hx = run()"
   ]
  }
 ],
 "metadata": {
  "kernelspec": {
   "display_name": "Python 3",
   "language": "python",
   "name": "python3"
  },
  "language_info": {
   "codemirror_mode": {
    "name": "ipython",
    "version": 3
   },
   "file_extension": ".py",
   "mimetype": "text/x-python",
   "name": "python",
   "nbconvert_exporter": "python",
   "pygments_lexer": "ipython3",
   "version": "3.6.7"
  }
 },
 "nbformat": 4,
 "nbformat_minor": 2
}
