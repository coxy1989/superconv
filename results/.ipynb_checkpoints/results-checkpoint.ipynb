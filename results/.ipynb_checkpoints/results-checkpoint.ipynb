{
 "cells": [
  {
   "cell_type": "code",
   "execution_count": 1,
   "metadata": {},
   "outputs": [],
   "source": [
    "import pandas as pd\n",
    "import seaborn as sns"
   ]
  },
  {
   "cell_type": "code",
   "execution_count": 19,
   "metadata": {},
   "outputs": [],
   "source": [
    "def final_mean_sd(result_dir):\n",
    "    hxs = [pd.read_csv(f'{result_dir}/{i}.csv') for i in range(1,6)]\n",
    "    val_accs = pd.DataFrame([hx['val_acc'] for hx in hxs]).T\n",
    "    return  val_accs.mean(axis=1).iloc[-1], val_accs.std(axis=1).iloc[-1]"
   ]
  },
  {
   "cell_type": "code",
   "execution_count": 27,
   "metadata": {},
   "outputs": [
    {
     "name": "stdout",
     "output_type": "stream",
     "text": [
      "(0.990672104358673, 0.0005044266544035229)\n",
      "(0.9903596043586731, 0.0004448807434051065)\n",
      "(0.9903308820724487, 0.00030441423668850037)\n",
      "(0.990786994099617, 0.00016546726447257132)\n",
      "(0.989111902117729, 0.0006720385257634505)\n",
      "(0.9888304221630098, 0.00044282137937315586)\n"
     ]
    }
   ],
   "source": [
    "print(final_mean_sd('./experiment_mnist_1cycle_12'))\n",
    "print(final_mean_sd('./experiment_mnist_1cycle_25'))\n",
    "print(final_mean_sd('./experiment_mnist_1cycle_50'))\n",
    "print(final_mean_sd('./experiment_mnist_1cycle_85'))\n",
    "print(final_mean_sd('./experiment_mnist_inv'))\n",
    "print(final_mean_sd('./experiment_mnist_reduce_on_plateau'))"
   ]
  }
 ],
 "metadata": {
  "kernelspec": {
   "display_name": "Python 3",
   "language": "python",
   "name": "python3"
  },
  "language_info": {
   "codemirror_mode": {
    "name": "ipython",
    "version": 3
   },
   "file_extension": ".py",
   "mimetype": "text/x-python",
   "name": "python",
   "nbconvert_exporter": "python",
   "pygments_lexer": "ipython3",
   "version": "3.6.7"
  }
 },
 "nbformat": 4,
 "nbformat_minor": 2
}
